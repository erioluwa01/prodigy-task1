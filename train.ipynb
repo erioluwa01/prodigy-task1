{
 "cells": [
  {
   "cell_type": "code",
   "execution_count": null,
   "metadata": {},
   "outputs": [],
   "source": [
    "import pandas as pd\n",
    "import seaborn as sns\n",
    "import matplotlib.pyplot as plt\n",
    "import numpy as np"
   ]
  },
  {
   "cell_type": "code",
   "execution_count": null,
   "metadata": {},
   "outputs": [],
   "source": [
    "data=pd.read_csv('train.csv')"
   ]
  },
  {
   "cell_type": "code",
   "execution_count": null,
   "metadata": {},
   "outputs": [],
   "source": [
    "data.head()"
   ]
  },
  {
   "cell_type": "code",
   "execution_count": null,
   "metadata": {},
   "outputs": [],
   "source": [
    "X = data.iloc[:, :-1]\n",
    "y = data.iloc[:,-1]"
   ]
  },
  {
   "cell_type": "code",
   "execution_count": null,
   "metadata": {},
   "outputs": [],
   "source": [
    "X.head()"
   ]
  },
  {
   "cell_type": "code",
   "execution_count": null,
   "metadata": {},
   "outputs": [],
   "source": [
    "sns.heatmap(data.isnull())"
   ]
  },
  {
   "cell_type": "code",
   "execution_count": null,
   "metadata": {},
   "outputs": [],
   "source": [
    "pd.set_option('display.max_rows', None)\n",
    "data.isnull().sum()"
   ]
  },
  {
   "cell_type": "code",
   "execution_count": null,
   "metadata": {},
   "outputs": [],
   "source": [
    "X.drop(['PoolQC'], axis=1, inplace=True)\n",
    "X.drop(['Fence'], axis=1, inplace=True)\n",
    "X.drop(['MiscFeature'], axis=1, inplace=True)\n",
    "X.drop(['MasVnrType'], axis=1, inplace=True)\n",
    "X.drop(['Alley'], axis=1, inplace=True)\n",
    "X.drop(['FireplaceQu'], axis=1, inplace=True)\n",
    "\n"
   ]
  },
  {
   "cell_type": "code",
   "execution_count": null,
   "metadata": {},
   "outputs": [],
   "source": [
    "sns.heatmap(X.isnull())"
   ]
  },
  {
   "cell_type": "code",
   "execution_count": null,
   "metadata": {},
   "outputs": [],
   "source": [
    "def fill_with_second_mode_or_first(col):\n",
    "    modes = col.mode()\n",
    "    if len(modes) > 1:\n",
    "        return modes[1]\n",
    "    else:\n",
    "        return modes[0]\n",
    "\n",
    "X['LotFrontage'].fillna(fill_with_second_mode_or_first(X['LotFrontage']), inplace=True)\n",
    "X['MasVnrArea'].fillna(fill_with_second_mode_or_first(X['MasVnrArea']), inplace=True)\n",
    "X['BsmtQual'].fillna(fill_with_second_mode_or_first(X['BsmtQual']), inplace=True)\n",
    "X['BsmtCond'].fillna(fill_with_second_mode_or_first(X['BsmtCond']), inplace=True)\n",
    "X['BsmtExposure'].fillna(fill_with_second_mode_or_first(X['BsmtExposure']), inplace=True)\n",
    "X['BsmtFinType1'].fillna(fill_with_second_mode_or_first(X['BsmtFinType1']), inplace=True)\n",
    "X['BsmtFinType2'].fillna(fill_with_second_mode_or_first(X['BsmtFinType2']), inplace=True)\n",
    "X['GarageType'].fillna(fill_with_second_mode_or_first(X['GarageType']), inplace=True)\n",
    "X['Electrical'].fillna(fill_with_second_mode_or_first(X['Electrical']), inplace=True)\n",
    "X['GarageYrBlt'].fillna(fill_with_second_mode_or_first(X['GarageYrBlt']), inplace=True)\n",
    "X['GarageFinish'].fillna(fill_with_second_mode_or_first(X['GarageFinish']), inplace=True)\n",
    "X['GarageQual'].fillna(fill_with_second_mode_or_first(X['GarageQual']), inplace=True)\n",
    "X['GarageCond'].fillna(fill_with_second_mode_or_first(X['GarageCond']), inplace=True)\n"
   ]
  },
  {
   "cell_type": "code",
   "execution_count": null,
   "metadata": {},
   "outputs": [],
   "source": [
    "pd.set_option('display.max_rows', None)\n",
    "X.isnull().sum()\n",
    "\n"
   ]
  },
  {
   "cell_type": "code",
   "execution_count": null,
   "metadata": {},
   "outputs": [],
   "source": []
  },
  {
   "cell_type": "code",
   "execution_count": null,
   "metadata": {},
   "outputs": [],
   "source": [
    "sns.heatmap(X.isnull())"
   ]
  },
  {
   "cell_type": "code",
   "execution_count": null,
   "metadata": {},
   "outputs": [],
   "source": [
    "categorical_vars = [\n",
    "    'MSZoning', 'Street', 'LotShape', 'LandContour', 'Utilities', 'LotConfig',\n",
    "    'LandSlope', 'Neighborhood', 'Condition1', 'Condition2', 'BldgType',\n",
    "    'HouseStyle', 'RoofStyle', 'RoofMatl', 'Exterior1st', 'Exterior2nd',\n",
    "    'ExterQual', 'ExterCond', 'Foundation', 'BsmtQual', 'BsmtCond',\n",
    "    'BsmtExposure', 'BsmtFinType1', 'BsmtFinType2', 'Heating', 'HeatingQC',\n",
    "    'CentralAir', 'Electrical', 'KitchenQual', 'Functional', 'GarageType',\n",
    "    'GarageFinish', 'GarageQual', 'GarageCond', 'PavedDrive', 'SaleType',\n",
    "    'SaleCondition'\n",
    "]\n",
    "\n",
    "X_encoded = pd.get_dummies(X, columns=categorical_vars, drop_first=True)\n"
   ]
  },
  {
   "cell_type": "code",
   "execution_count": null,
   "metadata": {},
   "outputs": [],
   "source": [
    "print(X.shape)\n",
    "print(y.shape)\n"
   ]
  },
  {
   "cell_type": "code",
   "execution_count": null,
   "metadata": {},
   "outputs": [],
   "source": [
    "y.isnull().sum()\n"
   ]
  },
  {
   "cell_type": "code",
   "execution_count": null,
   "metadata": {},
   "outputs": [],
   "source": [
    "from sklearn.model_selection import train_test_split"
   ]
  },
  {
   "cell_type": "code",
   "execution_count": null,
   "metadata": {},
   "outputs": [],
   "source": [
    "X = pd.get_dummies(X, drop_first=True)\n"
   ]
  },
  {
   "cell_type": "code",
   "execution_count": null,
   "metadata": {},
   "outputs": [],
   "source": [
    "X_train, X_test, y_train, y_test = train_test_split(X, y, test_size=0.2, random_state=42)"
   ]
  },
  {
   "cell_type": "code",
   "execution_count": null,
   "metadata": {},
   "outputs": [],
   "source": [
    "from sklearn.preprocessing import StandardScaler\n",
    "scaler = StandardScaler()"
   ]
  },
  {
   "cell_type": "code",
   "execution_count": null,
   "metadata": {},
   "outputs": [],
   "source": [
    "X_train = scaler.fit_transform(X_train)\n",
    "X_test = scaler.transform(X_test)"
   ]
  },
  {
   "cell_type": "code",
   "execution_count": null,
   "metadata": {},
   "outputs": [],
   "source": [
    "from sklearn.linear_model import LinearRegression"
   ]
  },
  {
   "cell_type": "code",
   "execution_count": null,
   "metadata": {},
   "outputs": [],
   "source": [
    "model= LinearRegression()"
   ]
  },
  {
   "cell_type": "code",
   "execution_count": null,
   "metadata": {},
   "outputs": [],
   "source": [
    "model.fit(X, y)"
   ]
  },
  {
   "cell_type": "code",
   "execution_count": null,
   "metadata": {},
   "outputs": [],
   "source": []
  },
  {
   "cell_type": "code",
   "execution_count": null,
   "metadata": {},
   "outputs": [],
   "source": []
  },
  {
   "cell_type": "code",
   "execution_count": null,
   "metadata": {},
   "outputs": [],
   "source": [
    "import numpy as np\n",
    "from sklearn.linear_model import Ridge\n",
    "from sklearn.model_selection import train_test_split\n",
    "from sklearn.preprocessing import StandardScaler\n",
    "from sklearn.metrics import mean_absolute_error\n",
    "\n",
    "# Log-transform target to stabilize variance\n",
    "y_log = np.log1p(y)\n",
    "\n",
    "# Train test split\n",
    "X_train, X_test, y_train_log, y_test_log = train_test_split(X, y_log, test_size=0.2, random_state=42)\n",
    "\n",
    "# Scale features\n",
    "scaler = StandardScaler()\n",
    "X_train_scaled = scaler.fit_transform(X_train)\n",
    "X_test_scaled = scaler.transform(X_test)\n",
    "\n",
    "# Fit Ridge Regression\n",
    "ridge = Ridge(alpha=1.0)\n",
    "ridge.fit(X_train_scaled, y_train_log)\n",
    "\n",
    "# Predict and inverse transform\n",
    "y_pred_log = ridge.predict(X_test_scaled)\n",
    "y_pred = np.expm1(y_pred_log)\n",
    "\n",
    "# Evaluate\n",
    "mae = mean_absolute_error(y_test, y_pred)\n",
    "print(f\"MAE: {mae:.2f}\")\n"
   ]
  },
  {
   "cell_type": "code",
   "execution_count": null,
   "metadata": {},
   "outputs": [],
   "source": [
    "import pandas as pd\n",
    "\n",
    "# Assume y_test and y_pred are your true and predicted values respectively\n",
    "\n",
    "# Create a DataFrame to compare\n",
    "comparison = pd.DataFrame({\n",
    "    'Actual': y_test.values,      # actual sale prices\n",
    "    'Predicted': y_pred           # predicted sale prices from your model\n",
    "})\n",
    "\n",
    "print(comparison.head(10))  # show first 10 rows\n"
   ]
  },
  {
   "cell_type": "code",
   "execution_count": null,
   "metadata": {},
   "outputs": [],
   "source": [
    "submission = pd.DataFrame({\n",
    "    \"Id\": X_test[\"Id\"],\n",
    "    \"SalePrice\": y_pred\n",
    "})\n",
    "submission.to_csv(\"submission2.csv\", index=False)\n"
   ]
  },
  {
   "cell_type": "code",
   "execution_count": null,
   "metadata": {},
   "outputs": [],
   "source": []
  }
 ],
 "metadata": {
  "kernelspec": {
   "display_name": "venv",
   "language": "python",
   "name": "python3"
  },
  "language_info": {
   "codemirror_mode": {
    "name": "ipython",
    "version": 3
   },
   "file_extension": ".py",
   "mimetype": "text/x-python",
   "name": "python",
   "nbconvert_exporter": "python",
   "pygments_lexer": "ipython3",
   "version": "3.11.9"
  },
  "orig_nbformat": 4
 },
 "nbformat": 4,
 "nbformat_minor": 2
}
